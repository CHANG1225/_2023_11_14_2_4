{
 "cells": [
  {
   "cell_type": "code",
   "execution_count": 1,
   "metadata": {},
   "outputs": [
    {
     "name": "stdout",
     "output_type": "stream",
     "text": [
      "請示true的程式區塊\n",
      "大於18\n",
      "程式結束\n"
     ]
    }
   ],
   "source": [
    "#if的單向選擇\n",
    "\n",
    "a=21\n",
    "if a >18:\n",
    "    print(\"請示true的程式區塊\")\n",
    "    print(\"大於18\")\n",
    "print(\"程式結束\")"
   ]
  },
  {
   "cell_type": "code",
   "execution_count": 14,
   "metadata": {},
   "outputs": [
    {
     "name": "stdout",
     "output_type": "stream",
     "text": [
      "您尚未成年\n",
      "您的age是:3\n"
     ]
    }
   ],
   "source": [
    "#雙向選擇 if & else\n",
    "\n",
    "age = int(input(\"輸入age:\"))\n",
    "\n",
    "if age >= 18:\n",
    "        print(\"您已經成年\")\n",
    "else:\n",
    "        print(\"您尚未成年\")\n",
    "\n",
    "print(f\"您的age是:{age}\")\n"
   ]
  },
  {
   "cell_type": "code",
   "execution_count": 16,
   "metadata": {},
   "outputs": [
    {
     "name": "stdout",
     "output_type": "stream",
     "text": [
      "學生分數是:313.95\n",
      "學生分數是:314\n",
      "學生分數是:313\n",
      "學生分數是314\n"
     ]
    }
   ],
   "source": [
    "#學生總分最高為300分\n",
    "#有些學生可以加分5%\n",
    "#字串的比較都用 == or !=\n",
    "\n",
    "scores = int(input(\"請輸入學生分數(最高300分:)\"))\n",
    "is_add = input(\"學生是否符合加分條件?(y,n)\")\n",
    "\n",
    "if is_add == \"y\":\n",
    "    scores *= 1.05\n",
    "\n",
    "print(f\"學生分數是:{scores:}\")\n",
    "print(f\"學生分數是:{scores:.0f}\") #.0f 小數點第0位\n",
    "print(f\"學生分數是:{int(scores)}\") # int 換算成整數\n",
    "print(f'學生分數是{round(scores)}') #round 四捨五入"
   ]
  },
  {
   "cell_type": "code",
   "execution_count": 52,
   "metadata": {},
   "outputs": [
    {
     "name": "stdout",
     "output_type": "stream",
     "text": [
      "學生分數是:105.0\n",
      "學生分數是:105\n",
      "學生分數是:105\n",
      "學生分數是105\n"
     ]
    }
   ],
   "source": [
    "#學生總分最高為300分\n",
    "#若低於200分可以加分5%\n",
    "#若加分後高達300分以300分為準\n",
    "#字串的比較都用 == or !=\n",
    "\n",
    "scores = int(input(\"請輸入學生分數(最高300分:)\"))\n",
    "\n",
    "if scores< 200:\n",
    "    scores *= 1.05\n",
    "\n",
    "    \n",
    "    print(f\"學生分數是:{scores:}\")\n",
    "    print(f\"學生分數是:{scores:.0f}\") #.0f 小數點第0位\n",
    "    print(f\"學生分數是:{int(scores)}\") # int 換算成整數\n",
    "    print(f'學生分數是{round(scores)}') #round 四捨五入\n",
    " \n",
    " \n",
    "else:\n",
    "    print(\"學生分數不可以大於300\")\n",
    "\n",
    "\n",
    "\n",
    "\n",
    "\n"
   ]
  }
 ],
 "metadata": {
  "kernelspec": {
   "display_name": "Python 3",
   "language": "python",
   "name": "python3"
  },
  "language_info": {
   "codemirror_mode": {
    "name": "ipython",
    "version": 3
   },
   "file_extension": ".py",
   "mimetype": "text/x-python",
   "name": "python",
   "nbconvert_exporter": "python",
   "pygments_lexer": "ipython3",
   "version": "3.10.13"
  }
 },
 "nbformat": 4,
 "nbformat_minor": 2
}
