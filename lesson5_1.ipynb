{
 "cells": [
  {
   "cell_type": "code",
   "execution_count": 29,
   "metadata": {},
   "outputs": [],
   "source": [
    "money=int(input(\"請輸入金額\"))\n",
    "print(money)"
   ]
  },
  {
   "cell_type": "code",
   "execution_count": 3,
   "metadata": {},
   "outputs": [
    {
     "ename": "SyntaxError",
     "evalue": "invalid decimal literal (<string>, line 1)",
     "output_type": "error",
     "traceback": [
      "Traceback \u001b[0;36m(most recent call last)\u001b[0m:\n",
      "\u001b[0m  File \u001b[1;32m~/.local/lib/python3.10/site-packages/IPython/core/interactiveshell.py:3548\u001b[0m in \u001b[1;35mrun_code\u001b[0m\n    exec(code_obj, self.user_global_ns, self.user_ns)\u001b[0m\n",
      "\u001b[0;36m  Cell \u001b[0;32mIn[3], line 2\u001b[0;36m\n\u001b[0;31m    money=eval(input(\"請輸入金額\"))\u001b[0;36m\n",
      "\u001b[0;36m  File \u001b[0;32m<string>:1\u001b[0;36m\u001b[0m\n\u001b[0;31m    23a\u001b[0m\n\u001b[0m     ^\u001b[0m\n\u001b[0;31mSyntaxError\u001b[0m\u001b[0;31m:\u001b[0m invalid decimal literal\n"
     ]
    }
   ],
   "source": [
    "# Syntax error\n",
    "money=eval(input(\"請輸入金額\"))\n",
    "print(money)"
   ]
  },
  {
   "cell_type": "code",
   "execution_count": 4,
   "metadata": {},
   "outputs": [
    {
     "ename": "ValueError",
     "evalue": "invalid literal for int() with base 10: '25.5'",
     "output_type": "error",
     "traceback": [
      "\u001b[0;31m---------------------------------------------------------------------------\u001b[0m",
      "\u001b[0;31mValueError\u001b[0m                                Traceback (most recent call last)",
      "\u001b[1;32m/workspaces/_2023_11_14_2_4/lesson5_1.ipynb 儲存格 3\u001b[0m line \u001b[0;36m1\n\u001b[0;32m----> <a href='vscode-notebook-cell://codespaces%2Bturbo-yodel-v64vwqp5rjf556/workspaces/_2023_11_14_2_4/lesson5_1.ipynb#W2sdnNjb2RlLXJlbW90ZQ%3D%3D?line=0'>1</a>\u001b[0m money\u001b[39m=\u001b[39m \u001b[39mint\u001b[39;49m(\u001b[39minput\u001b[39;49m(\u001b[39m\"\u001b[39;49m\u001b[39m起輸入金額(請輸入整數)\u001b[39;49m\u001b[39m\"\u001b[39;49m))\n\u001b[1;32m      <a href='vscode-notebook-cell://codespaces%2Bturbo-yodel-v64vwqp5rjf556/workspaces/_2023_11_14_2_4/lesson5_1.ipynb#W2sdnNjb2RlLXJlbW90ZQ%3D%3D?line=1'>2</a>\u001b[0m \u001b[39mprint\u001b[39m \u001b[39m=\u001b[39m money\n",
      "\u001b[0;31mValueError\u001b[0m: invalid literal for int() with base 10: '25.5'"
     ]
    }
   ],
   "source": [
    "money= int(input(\"起輸入金額(請輸入整數)\"))\n",
    "print = money\n",
    "\n",
    "#value error"
   ]
  },
  {
   "cell_type": "code",
   "execution_count": 3,
   "metadata": {},
   "outputs": [
    {
     "name": "stdout",
     "output_type": "stream",
     "text": [
      "23\n",
      "應用程式結束\n"
     ]
    }
   ],
   "source": [
    "#處理 raise Exception\n",
    "try:\n",
    "    money = int(input(\"請輸入整數金額:\"))\n",
    "    print  (money)\n",
    "except:\n",
    "    print  (\"輸入格式錯誤\")\n",
    "print(\"應用程式結束\")"
   ]
  },
  {
   "cell_type": "code",
   "execution_count": 8,
   "metadata": {},
   "outputs": [
    {
     "name": "stdout",
     "output_type": "stream",
     "text": [
      "23\n",
      "23.2\n",
      "應用程式結束\n"
     ]
    }
   ],
   "source": [
    "#可以有好多個 except,else只能1個\n",
    "try:\n",
    "    money = int(input(\"請輸入整數:\"))\n",
    "    f1 = eval(input(\"請輸入浮點數:\"))\n",
    "except SyntaxError:\n",
    "    print(\"輸入浮點數時有問題\")\n",
    "except ValueError:\n",
    "    print(\"輸入整數時有問題\")\n",
    "else: #都沒有出錯 就會執行這一行\n",
    "    print(money)\n",
    "    print(f1)\n",
    "print(\"應用程式結束\")"
   ]
  },
  {
   "cell_type": "code",
   "execution_count": 14,
   "metadata": {},
   "outputs": [
    {
     "name": "stdout",
     "output_type": "stream",
     "text": [
      "學生分數是245\n"
     ]
    }
   ],
   "source": [
    "#學生總分為300\n",
    "#要檢查學生輸入分數是<=300\n",
    "#要檢查輸入格式是否正確\n",
    "#有些學生可以加分5%\n",
    "#如果加分超過300,就以300分為準\n",
    "\n",
    "try:\n",
    "    scores = int(input(\"學生分數(最高分為300分):\"))\n",
    "except ValueError:\n",
    "    print (\"輸入格式有誤\")\n",
    "except :\n",
    "    print(\"不知名的錯誤\")\n",
    "else:\n",
    "    if scores<=300:\n",
    "        is_add =  input(\"學生是否符合加分條件?y,n\")\n",
    "\n",
    "        if(is_add ==\"y\"):\n",
    "            scores *=1.05\n",
    "            if scores > 300:\n",
    "              scores = 300\n",
    "        print (f'學生分數是{round(scores)}')       \n",
    "    else:\n",
    "        print(\"學生分數不可大於300\")\n",
    "            \n",
    "            "
   ]
  }
 ],
 "metadata": {
  "kernelspec": {
   "display_name": "Python 3",
   "language": "python",
   "name": "python3"
  },
  "language_info": {
   "codemirror_mode": {
    "name": "ipython",
    "version": 3
   },
   "file_extension": ".py",
   "mimetype": "text/x-python",
   "name": "python",
   "nbconvert_exporter": "python",
   "pygments_lexer": "ipython3",
   "version": "3.10.13"
  }
 },
 "nbformat": 4,
 "nbformat_minor": 2
}
