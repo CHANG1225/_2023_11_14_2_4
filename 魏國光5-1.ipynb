{
 "cells": [
  {
   "cell_type": "code",
   "execution_count": 2,
   "metadata": {},
   "outputs": [
    {
     "name": "stdout",
     "output_type": "stream",
     "text": [
      "23\n"
     ]
    }
   ],
   "source": [
    "money=eval(input(\"請輸入金額:\"))\n",
    "print(money)"
   ]
  },
  {
   "cell_type": "code",
   "execution_count": 8,
   "metadata": {},
   "outputs": [
    {
     "name": "stdout",
     "output_type": "stream",
     "text": [
      "3\n",
      "程式結束\n"
     ]
    }
   ],
   "source": [
    "#Raise error 處理error的方法\n",
    "#當error 發生後執行except 來處理指令錯誤\n",
    "try:\n",
    "    money=int(input(\"清輸入金額:\"))\n",
    "    print(money)\n",
    "except:\n",
    "    print(\"輸入格式有誤\")\n",
    "print(\"程式結束\")        "
   ]
  },
  {
   "cell_type": "code",
   "execution_count": 25,
   "metadata": {},
   "outputs": [
    {
     "name": "stdout",
     "output_type": "stream",
     "text": [
      "不知名的錯誤\n",
      "應用程式結束\n"
     ]
    }
   ],
   "source": [
    "#當error 發生後執行except 來處理指令錯誤,無錯誤就繼續執行正常流程\n",
    "try:\n",
    "    money=int(input(\"請輸入金額(請輸入整數):\"))\n",
    "    f1=eval(input(\"請輸入浮點數:\"))\n",
    "    raise KeyboardInterrupt\n",
    "    print(money)\n",
    "except SyntaxError:\n",
    "    print(\"輸入浮點數時有問題\")\n",
    "except ValueError:    \n",
    "    print(\"輸入金額時有問題\")\n",
    "except :   \n",
    "    print(\"不知名的錯誤\") \n",
    "print(\"應用程式結束\")           "
   ]
  },
  {
   "cell_type": "code",
   "execution_count": 26,
   "metadata": {},
   "outputs": [
    {
     "name": "stdout",
     "output_type": "stream",
     "text": [
      "34\n",
      "2.8\n",
      "應用程式結束\n"
     ]
    }
   ],
   "source": [
    "#try except\"皆\"沒出錯,執行else\n",
    "try:\n",
    "    money=int(input(\"請輸入金額(請輸入整數):\"))\n",
    "    f1=eval(input(\"請輸入浮點數:\"))\n",
    "except SyntaxError:\n",
    "    print(\"輸入浮點數時有問題\")\n",
    "except ValueError:    \n",
    "    print(\"輸入金額時有問題\")\n",
    "except :   \n",
    "    print(\"不知名的錯誤\") \n",
    "\n",
    "print(money)\n",
    "print(f1)\n",
    "\n",
    "print(\"應用程式結束\")           "
   ]
  },
  {
   "cell_type": "code",
   "execution_count": 29,
   "metadata": {},
   "outputs": [
    {
     "name": "stdout",
     "output_type": "stream",
     "text": [
      "學生分數是255\n"
     ]
    }
   ],
   "source": [
    "try: \n",
    "    scores = int(input(\"學生分數(最高分為300分):\"))\n",
    "except ValueError:\n",
    "    print (\"輸入格式有誤\")\n",
    "except :\n",
    "    print(\"不知名的錯誤\")\n",
    "else:\n",
    "    if scores<=300:\n",
    "        is_add =  input(\"學生是否符合加分條件?y,n\")\n",
    "\n",
    "        if(is_add ==\"y\"):\n",
    "            scores *=1.05\n",
    "            if scores > 300:\n",
    "              scores = 300\n",
    "        print (f'學生分數是{round(scores)}')       \n",
    "    else:\n",
    "        print(\"學生分數不可大於300\")\n",
    "   "
   ]
  },
  {
   "cell_type": "code",
   "execution_count": 33,
   "metadata": {},
   "outputs": [
    {
     "name": "stdout",
     "output_type": "stream",
     "text": [
      "學生分數(最高分為300分):234\n",
      "學生分數是246\n"
     ]
    }
   ],
   "source": [
    "import pyinputplus as pyip\n",
    "\n",
    "scores = pyip.inputInt(\"學生分數(最高分為300分):\",min=0,max=300)\n",
    "print(scores)\n",
    "\n",
    "is_add =  input(\"學生是否符合加分條件?y,n\")\n",
    "if(is_add ==\"y\"):\n",
    "    scores *=1.05\n",
    "    if scores > 300:\n",
    "          scores = 300\n",
    "print (f'學生分數是{round(scores)}')       \n"
   ]
  },
  {
   "cell_type": "code",
   "execution_count": 42,
   "metadata": {},
   "outputs": [
    {
     "name": "stdout",
     "output_type": "stream",
     "text": [
      "學生分數(最高分為300分):30\n",
      "學生是否符合加分條件?(y,n)學生分數是32\n"
     ]
    }
   ],
   "source": [
    "import pyinputplus as pyip\n",
    "\n",
    "scores = pyip.inputInt(\"學生分數(最高分為300分):\",min=0,max=300)\n",
    "print(scores)\n",
    "\n",
    "is_add =  pyip.inputYesNo(\"學生是否符合加分條件?(y,n)\",yesVal=\"y\",noVal=\"n\",blank=True,default=\"n\")\n",
    "if(is_add ==\"y\"):\n",
    "    scores *=1.05\n",
    "    if scores > 300:\n",
    "          scores = 300\n",
    "print (f'學生分數是{round(scores)}')       "
   ]
  },
  {
   "cell_type": "code",
   "execution_count": 121,
   "metadata": {},
   "outputs": [
    {
     "name": "stdout",
     "output_type": "stream",
     "text": [
      "請輸入分數(1~100):"
     ]
    },
    {
     "ename": "TypeError",
     "evalue": "'int' object is not callable",
     "output_type": "error",
     "traceback": [
      "\u001b[0;31m---------------------------------------------------------------------------\u001b[0m",
      "\u001b[0;31mTypeError\u001b[0m                                 Traceback (most recent call last)",
      "\u001b[1;32m/workspaces/_2023_11_14_2_4/魏國光5-1.ipynb 儲存格 8\u001b[0m line \u001b[0;36m1\n\u001b[1;32m     <a href='vscode-notebook-cell://codespaces%2Bturbo-yodel-v64vwqp5rjf556/workspaces/_2023_11_14_2_4/%E9%AD%8F%E5%9C%8B%E5%85%895-1.ipynb#X11sdnNjb2RlLXJlbW90ZQ%3D%3D?line=10'>11</a>\u001b[0m \u001b[39melse\u001b[39;00m:\n\u001b[1;32m     <a href='vscode-notebook-cell://codespaces%2Bturbo-yodel-v64vwqp5rjf556/workspaces/_2023_11_14_2_4/%E9%AD%8F%E5%9C%8B%E5%85%895-1.ipynb#X11sdnNjb2RlLXJlbW90ZQ%3D%3D?line=11'>12</a>\u001b[0m  \u001b[39mif\u001b[39;00m scores \u001b[39m<\u001b[39m \u001b[39m80\u001b[39m:\n\u001b[0;32m---> <a href='vscode-notebook-cell://codespaces%2Bturbo-yodel-v64vwqp5rjf556/workspaces/_2023_11_14_2_4/%E9%AD%8F%E5%9C%8B%E5%85%895-1.ipynb#X11sdnNjb2RlLXJlbW90ZQ%3D%3D?line=12'>13</a>\u001b[0m   \u001b[39mprint\u001b[39;49m(\u001b[39m\"\u001b[39;49m\u001b[39m恭喜你低空飛過\u001b[39;49m\u001b[39m\"\u001b[39;49m)\n\u001b[1;32m     <a href='vscode-notebook-cell://codespaces%2Bturbo-yodel-v64vwqp5rjf556/workspaces/_2023_11_14_2_4/%E9%AD%8F%E5%9C%8B%E5%85%895-1.ipynb#X11sdnNjb2RlLXJlbW90ZQ%3D%3D?line=13'>14</a>\u001b[0m  \u001b[39melse\u001b[39;00m:\n\u001b[1;32m     <a href='vscode-notebook-cell://codespaces%2Bturbo-yodel-v64vwqp5rjf556/workspaces/_2023_11_14_2_4/%E9%AD%8F%E5%9C%8B%E5%85%895-1.ipynb#X11sdnNjb2RlLXJlbW90ZQ%3D%3D?line=14'>15</a>\u001b[0m   \u001b[39mprint\u001b[39m(\u001b[39m\"\u001b[39m\u001b[39m優\u001b[39m\u001b[39m\"\u001b[39m)\n",
      "\u001b[0;31mTypeError\u001b[0m: 'int' object is not callable"
     ]
    }
   ],
   "source": [
    "#請輸入學生分數0~100\n",
    "# 0~59 不及格\n",
    "# 60~79 及格\n",
    "# 80~100優\n",
    "import pyinputplus as pyip\n",
    "\n",
    "scores=pyip.inputInt(\"請輸入分數(1~100):\",max=100,min=0)\n",
    "print=(scores)\n",
    "if scores < 60:\n",
    " print=(\"重修\")\n",
    "else:\n",
    " if scores < 80:\n",
    "  print(\"恭喜你低空飛過\")\n",
    " else:\n",
    "  print(\"優\")"
   ]
  },
  {
   "cell_type": "code",
   "execution_count": 124,
   "metadata": {},
   "outputs": [
    {
     "name": "stdout",
     "output_type": "stream",
     "text": [
      "請輸入分數(1~100):"
     ]
    }
   ],
   "source": [
    "import pyinputplus as pyip\n",
    "\n",
    "scores=pyip.inputInt(\"請輸入分數(1~100):\",max=100,min=0)\n",
    "print=(scores)\n",
    "if scores < 60:\n",
    "      print=(\"不及格\")\n",
    "else:\n",
    "    if scores < 80:\n",
    "      print=(\"及格\")\n",
    "    else:\n",
    "      print(\"優\")"
   ]
  }
 ],
 "metadata": {
  "kernelspec": {
   "display_name": "Python 3",
   "language": "python",
   "name": "python3"
  },
  "language_info": {
   "codemirror_mode": {
    "name": "ipython",
    "version": 3
   },
   "file_extension": ".py",
   "mimetype": "text/x-python",
   "name": "python",
   "nbconvert_exporter": "python",
   "pygments_lexer": "ipython3",
   "version": "3.10.13"
  }
 },
 "nbformat": 4,
 "nbformat_minor": 2
}
