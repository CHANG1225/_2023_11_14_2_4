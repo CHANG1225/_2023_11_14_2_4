{
 "cells": [
  {
   "cell_type": "code",
   "execution_count": 2,
   "metadata": {},
   "outputs": [],
   "source": [
    "#參數有default value,default value要寫在後面\n",
    "def area(top,bottom=10,height=10):\n",
    "    return(top+bottom) * height / 2\n",
    "\n"
   ]
  },
  {
   "cell_type": "code",
   "execution_count": 7,
   "metadata": {},
   "outputs": [
    {
     "data": {
      "text/plain": [
       "150.0"
      ]
     },
     "execution_count": 7,
     "metadata": {},
     "output_type": "execute_result"
    }
   ],
   "source": [
    "area(5)\n",
    "area(5,bottom=8)\n",
    "area(5,bottom=8,height=20)\n",
    "area(5,height=20,bottom=8)\n",
    "area(5,height=20)"
   ]
  },
  {
   "cell_type": "code",
   "execution_count": 10,
   "metadata": {},
   "outputs": [
    {
     "name": "stdout",
     "output_type": "stream",
     "text": [
      "1 2 a b 3.3\n",
      "1-2-a-b-3.3\n",
      "1-2-a-b-3.3,謝謝\n"
     ]
    }
   ],
   "source": [
    "#print(sep=' ', end='\\n', file=None, flush=False)\n",
    "\n",
    "print(1, 2, 'a', 'b', 3.3)\n",
    "print(1, 2, 'a', 'b', 3.3,sep=\"-\")\n",
    "print(1, 2, 'a', 'b', 3.3,end=',謝謝\\n',sep=\"-\")"
   ]
  }
 ],
 "metadata": {
  "kernelspec": {
   "display_name": "Python 3",
   "language": "python",
   "name": "python3"
  },
  "language_info": {
   "codemirror_mode": {
    "name": "ipython",
    "version": 3
   },
   "file_extension": ".py",
   "mimetype": "text/x-python",
   "name": "python",
   "nbconvert_exporter": "python",
   "pygments_lexer": "ipython3",
   "version": "3.10.13"
  }
 },
 "nbformat": 4,
 "nbformat_minor": 2
}
