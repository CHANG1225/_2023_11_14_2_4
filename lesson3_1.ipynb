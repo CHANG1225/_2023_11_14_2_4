{
 "cells": [
  {
   "cell_type": "code",
   "execution_count": null,
   "metadata": {},
   "outputs": [],
   "source": [
    "n=5\n",
    "m=5\n",
    "\n",
    "total=n+m\n",
    "total"
   ]
  },
  {
   "cell_type": "code",
   "execution_count": 5,
   "metadata": {},
   "outputs": [
    {
     "data": {
      "text/plain": [
       "333"
      ]
     },
     "execution_count": 5,
     "metadata": {},
     "output_type": "execute_result"
    }
   ],
   "source": [
    "#使用input(),請使用者自行輸入值\n",
    "n = int(input(\"請輸入n的值:\"))\n",
    "m = int(input(\"請輸入m的值\"))\n",
    "total = m+n\n",
    "total"
   ]
  },
  {
   "cell_type": "code",
   "execution_count": 11,
   "metadata": {},
   "outputs": [
    {
     "data": {
      "text/plain": [
       "0"
      ]
     },
     "execution_count": 11,
     "metadata": {},
     "output_type": "execute_result"
    }
   ],
   "source": [
    "#practise\n",
    "n = int(input(\"n=:\"))\n",
    "m = int(input(\"m=\"))\n",
    "total = m*n-2**m\n",
    "total"
   ]
  },
  {
   "cell_type": "code",
   "execution_count": 9,
   "metadata": {},
   "outputs": [
    {
     "data": {
      "text/plain": [
       "-292.22392387758805"
      ]
     },
     "execution_count": 9,
     "metadata": {},
     "output_type": "execute_result"
    }
   ],
   "source": [
    "#eval 讓字串==>浮點數==>整數 int(float(\"字串\"))\n",
    "#(如果是有數點的數值)\n",
    "n = eval(input(\"n=:\"))\n",
    "m = eval(input(\"m=\"))\n",
    "total = m*n-2**m\n",
    "total"
   ]
  },
  {
   "cell_type": "code",
   "execution_count": 14,
   "metadata": {},
   "outputs": [
    {
     "name": "stdout",
     "output_type": "stream",
     "text": [
      "1\n",
      "2 5 3 5 6 6 ab 2.45\n"
     ]
    }
   ],
   "source": [
    "#1個引數值\n",
    "print(1)\n",
    "#多個引數值\n",
    "print(2,5,3,5,6,\"6\",\"ab\",2.45)"
   ]
  },
  {
   "cell_type": "code",
   "execution_count": 17,
   "metadata": {},
   "outputs": [
    {
     "name": "stdout",
     "output_type": "stream",
     "text": [
      "44 + 422 = 466\n"
     ]
    }
   ],
   "source": [
    "n = eval(input(\"n=:\"))\n",
    "m = eval(input(\"m=\"))\n",
    "total=m+n\n",
    "print(n,\"+\",m,\"=\",total)"
   ]
  },
  {
   "cell_type": "code",
   "execution_count": 23,
   "metadata": {},
   "outputs": [
    {
     "name": "stdout",
     "output_type": "stream",
     "text": [
      "8.53468 + 7.246790743 = 15.781470743\n"
     ]
    }
   ],
   "source": [
    "n = eval(input(\"n=:\"))\n",
    "m = eval(input(\"m=\"))\n",
    "total=m+n\n",
    "print(n,\"+\",m,\"=\",total)"
   ]
  },
  {
   "cell_type": "code",
   "execution_count": 22,
   "metadata": {},
   "outputs": [
    {
     "name": "stdout",
     "output_type": "stream",
     "text": [
      "3.2735+2.4856=5.7591\n"
     ]
    }
   ],
   "source": [
    "n = eval(input(\"n=:\"))\n",
    "m = eval(input(\"m=\"))\n",
    "total=m+n\n",
    "#字串差補f{\"\"},可把空格消失,f=format格式\n",
    "print(f\"{n}+{m}={total}\")"
   ]
  },
  {
   "cell_type": "code",
   "execution_count": 24,
   "metadata": {},
   "outputs": [
    {
     "name": "stdout",
     "output_type": "stream",
     "text": [
      "3.5555+2.765432=6.32\n"
     ]
    }
   ],
   "source": [
    "n = eval(input(\"n=:\"))\n",
    "m = eval(input(\"m=\"))\n",
    "total=m+n\n",
    "#字串差補f{\"\"},可把空格消失,f=format格式\n",
    "print(f\"{n}+{m}={total:.2f}\")#.2f小數點兩位"
   ]
  }
 ],
 "metadata": {
  "kernelspec": {
   "display_name": "Python 3",
   "language": "python",
   "name": "python3"
  },
  "language_info": {
   "codemirror_mode": {
    "name": "ipython",
    "version": 3
   },
   "file_extension": ".py",
   "mimetype": "text/x-python",
   "name": "python",
   "nbconvert_exporter": "python",
   "pygments_lexer": "ipython3",
   "version": "3.10.13"
  }
 },
 "nbformat": 4,
 "nbformat_minor": 2
}
