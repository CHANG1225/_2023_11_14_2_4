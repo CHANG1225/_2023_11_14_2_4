{
 "cells": [
  {
   "cell_type": "code",
   "execution_count": 19,
   "metadata": {},
   "outputs": [
    {
     "name": "stdout",
     "output_type": "stream",
     "text": [
      "請輸入體重,單位為(公斤):62.3\n",
      "請輸入身高,單位為(公分):158.8\n",
      "\n",
      "bmi為:24.7\n",
      "「您的體重過重」\n"
     ]
    }
   ],
   "source": [
    "import pyinputplus as pypi\n",
    "weight = pypi.inputFloat('請輸入體重,單位為(公斤):',min=0)\n",
    "print(weight)\n",
    "hight = pypi.inputFloat('請輸入身高,單位為(公分):',min=0)\n",
    "print(hight)\n",
    "\n",
    "bmi = weight / (hight/100)**2\n",
    "\n",
    "if bmi >=35:\n",
    "    print(f\"\\nbmi為:{bmi:.1f}\")\n",
    "    print('「您重度肥胖」')\n",
    "elif bmi >=30 and bmi <35:\n",
    "    print(f\"\\nbmi為:{bmi:.1f}\")\n",
    "    print('「您中度肥胖」')\n",
    "elif bmi >=27 and bmi <30:\n",
    "    print(f\"\\nbmi為:{bmi:.1f}\")\n",
    "    print('「您輕度肥胖」')\n",
    "elif bmi >=24 and bmi <27:    \n",
    "    print(f\"\\nbmi為:{bmi:.1f}\")\n",
    "    print('「您的體重過重」')\n",
    "elif bmi >=18.5 and bmi<24:\n",
    "    print(f\"\\nbmi為:{bmi:.1f}\")\n",
    "    print('「您的體重屬正常範圍」')\n",
    "else:\n",
    "    print(f\"\\nbmi為:{bmi:.1f}\")\n",
    "    print('「您的體重過輕」')\n",
    "\n",
    "\n",
    "\n"
   ]
  },
  {
   "cell_type": "code",
   "execution_count": 25,
   "metadata": {},
   "outputs": [
    {
     "name": "stdout",
     "output_type": "stream",
     "text": [
      "請輸入整數，求所有因數:65\n",
      "65的因數有:1 5 13 65 "
     ]
    }
   ],
   "source": [
    "import pyinputplus as pyip\n",
    "\n",
    "a = pyip.inputInt(\"請輸入整數，求所有因數:\")\n",
    "print(a)\n",
    "print(f\"{a}的因數有:\",end=\"\")\n",
    "for i in range(1,a+1,+1):\n",
    "    b=a%i\n",
    "    if(b==0):\n",
    "        print(i,end=\" \")\n"
   ]
  },
  {
   "cell_type": "code",
   "execution_count": null,
   "metadata": {},
   "outputs": [],
   "source": [
    "#num = int(input(\"請輸入整數，求所有因數:\"))\n",
    "import pyinputplus as pyip\n"
   ]
  }
 ],
 "metadata": {
  "kernelspec": {
   "display_name": "Python 3",
   "language": "python",
   "name": "python3"
  },
  "language_info": {
   "codemirror_mode": {
    "name": "ipython",
    "version": 3
   },
   "file_extension": ".py",
   "mimetype": "text/x-python",
   "name": "python",
   "nbconvert_exporter": "python",
   "pygments_lexer": "ipython3",
   "version": "3.10.13"
  }
 },
 "nbformat": 4,
 "nbformat_minor": 2
}
