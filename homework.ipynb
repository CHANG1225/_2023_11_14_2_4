{
 "cells": [
  {
   "cell_type": "code",
   "execution_count": 19,
   "metadata": {},
   "outputs": [
    {
     "name": "stdout",
     "output_type": "stream",
     "text": [
      "請輸入體重,單位為(公斤):62.3\n",
      "請輸入身高,單位為(公分):158.8\n",
      "\n",
      "bmi為:24.7\n",
      "「您的體重過重」\n"
     ]
    }
   ],
   "source": [
    "import pyinputplus as pypi\n",
    "weight = pypi.inputFloat('請輸入體重,單位為(公斤):',min=0)\n",
    "print(weight)\n",
    "hight = pypi.inputFloat('請輸入身高,單位為(公分):',min=0)\n",
    "print(hight)\n",
    "\n",
    "bmi = weight / (hight/100)**2\n",
    "\n",
    "if bmi >=35:\n",
    "    print(f\"\\nbmi為:{bmi:.1f}\")\n",
    "    print('「您重度肥胖」')\n",
    "elif bmi >=30 and bmi <35:\n",
    "    print(f\"\\nbmi為:{bmi:.1f}\")\n",
    "    print('「您中度肥胖」')\n",
    "elif bmi >=27 and bmi <30:\n",
    "    print(f\"\\nbmi為:{bmi:.1f}\")\n",
    "    print('「您輕度肥胖」')\n",
    "elif bmi >=24 and bmi <27:    \n",
    "    print(f\"\\nbmi為:{bmi:.1f}\")\n",
    "    print('「您的體重過重」')\n",
    "elif bmi >=18.5 and bmi<24:\n",
    "    print(f\"\\nbmi為:{bmi:.1f}\")\n",
    "    print('「您的體重屬正常範圍」')\n",
    "else:\n",
    "    print(f\"\\nbmi為:{bmi:.1f}\")\n",
    "    print('「您的體重過輕」')\n",
    "\n",
    "\n",
    "\n"
   ]
  },
  {
   "cell_type": "code",
   "execution_count": 25,
   "metadata": {},
   "outputs": [
    {
     "name": "stdout",
     "output_type": "stream",
     "text": [
      "請輸入整數，求所有因數:65\n",
      "65的因數有:1 5 13 65 "
     ]
    }
   ],
   "source": [
    "import pyinputplus as pyip\n",
    "\n",
    "a = pyip.inputInt(\"請輸入整數，求所有因數:\")\n",
    "print(a)\n",
    "print(f\"{a}的因數有:\",end=\"\")\n",
    "for i in range(1,a+1,+1):\n",
    "    b=a%i\n",
    "    if(b==0):\n",
    "        print(i,end=\" \")\n"
   ]
  },
  {
   "cell_type": "code",
   "execution_count": null,
   "metadata": {},
   "outputs": [],
   "source": [
    "#num = int(input(\"請輸入整數，求所有因數:\"))\n",
    "import pyinputplus as pyip\n"
   ]
  },
  {
   "cell_type": "code",
   "execution_count": 9,
   "metadata": {},
   "outputs": [
    {
     "name": "stdout",
     "output_type": "stream",
     "text": [
      "請輸入身高，單位為公分:Blank values are not allowed.\n",
      "請輸入身高，單位為公分:158.0\n",
      "請輸入體重，單位為公斤:45.0\n",
      "您的BMI是18.03,「您的體重過輕」\n",
      "請問還要繼續嗎?(y,n)請輸入身高，單位為公分:158.0\n",
      "請輸入體重，單位為公斤:158.0\n",
      "您的BMI是63.29,「您的體重重度肥胖」\n",
      "請問還要繼續嗎?(y,n)結束\n"
     ]
    }
   ],
   "source": [
    "#還要繼續嗎?(y,n):\n",
    "#按y,繼續計算,按n,結束計算\n",
    "\n",
    "import pyinputplus as pyip\n",
    "\n",
    "def getBMI(height:float, weight:float) -> tuple[float,str]:\n",
    "    BMI = weight / (height*0.01)**2\n",
    "    message = \"\"\n",
    "    if BMI < 18.5:\n",
    "        message = \"「您的體重過輕」\"\n",
    "    elif BMI < 24:        \n",
    "        message = \"「您的體重正常」\"\n",
    "    \n",
    "    elif BMI < 27:        \n",
    "        message = \"「您的體重過重」\"\n",
    "\n",
    "    elif BMI < 30:        \n",
    "        message = \"「您的體重輕度肥胖」\"\n",
    "\n",
    "    elif BMI < 35:        \n",
    "        message = \"「您的體重中度肥胖」\"\n",
    "\n",
    "    else:        \n",
    "        message = \"「您的體重重度肥胖」\"\n",
    "\n",
    "    return (BMI,message)\n",
    "\n",
    "    \n",
    "while(True):\n",
    "    h = pyip.inputFloat(\"請輸入身高，單位為公分:\",min = 0)\n",
    "    print(h)\n",
    "    w = pyip.inputFloat(\"請輸入體重，單位為公斤:\",min = 0)\n",
    "    print(w)\n",
    "    bmi, message = getBMI(height=h,weight=w)\n",
    "    print(f\"您的BMI是{bmi:.2f},{message}\")\n",
    "\n",
    "\n",
    "    is_continue=pyip.inputYesNo('請問還要繼續嗎?(y,n)')\n",
    "    if is_continue != 'yes':\n",
    "        break\n",
    "\n",
    "print('結束')\n",
    "\n"
   ]
  }
 ],
 "metadata": {
  "kernelspec": {
   "display_name": "Python 3",
   "language": "python",
   "name": "python3"
  },
  "language_info": {
   "codemirror_mode": {
    "name": "ipython",
    "version": 3
   },
   "file_extension": ".py",
   "mimetype": "text/x-python",
   "name": "python",
   "nbconvert_exporter": "python",
   "pygments_lexer": "ipython3",
   "version": "3.10.13"
  }
 },
 "nbformat": 4,
 "nbformat_minor": 2
}
