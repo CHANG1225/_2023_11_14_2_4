{
 "cells": [
  {
   "cell_type": "code",
   "execution_count": null,
   "metadata": {},
   "outputs": [],
   "source": [
    "import pyinputplus as pypi\n",
    "weight = pypi.inputFloat('請輸入體重')\n",
    "print(weight)\n",
    "hightt = pypi.inputFloat('請輸入身高')\n",
    "print(hight)\n",
    "\n",
    "\n"
   ]
  }
 ],
 "metadata": {
  "language_info": {
   "name": "python"
  }
 },
 "nbformat": 4,
 "nbformat_minor": 2
}
