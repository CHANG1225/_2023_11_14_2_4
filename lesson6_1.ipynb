{
 "cells": [
  {
   "cell_type": "code",
   "execution_count": 10,
   "metadata": {},
   "outputs": [
    {
     "name": "stdout",
     "output_type": "stream",
     "text": [
      "請輸入金額:130000\n",
      "實付金額是:104000.0\n"
     ]
    }
   ],
   "source": [
    "# homework\n",
    "#100000元打8折.\n",
    "#50000打85折.\n",
    "#30000打9折.\n",
    "#10000打95折.\n",
    "\n",
    "# 請輸入購買金額:130000\n",
    "# 實付金額是: 104000.0 元\n",
    "\n",
    "import pyinputplus as pypi\n",
    "\n",
    "money = pypi.inputInt('請輸入金額:')\n",
    "print(money)\n",
    "\n",
    "if money >=100000:\n",
    "    money *=0.8    \n",
    "elif money>=50000:\n",
    "    money *=0.85\n",
    "elif money>=30000:\n",
    "    money *=0.9\n",
    "elif money>=10000:\n",
    "    money *=0.95\n",
    "else:\n",
    "    print('未符合打折門檻')\n",
    "print(f\"實付金額是:{money:.1f}\")\n",
    "\n",
    "\n",
    "\n",
    "\n"
   ]
  },
  {
   "cell_type": "code",
   "execution_count": 1,
   "metadata": {},
   "outputs": [
    {
     "name": "stdout",
     "output_type": "stream",
     "text": [
      "成年\n"
     ]
    }
   ],
   "source": [
    "#not運算子\n",
    "age =18\n",
    "\n",
    "if age >= 18:\n",
    "    print('成年')\n",
    "else :\n",
    "    print('未成年')"
   ]
  },
  {
   "cell_type": "code",
   "execution_count": 2,
   "metadata": {},
   "outputs": [
    {
     "name": "stdout",
     "output_type": "stream",
     "text": [
      "成年\n"
     ]
    }
   ],
   "source": [
    "age = 18\n",
    "if not age>=18:\n",
    "    print('未成年')\n",
    "else:\n",
    "    print('成年')"
   ]
  },
  {
   "cell_type": "code",
   "execution_count": 16,
   "metadata": {},
   "outputs": [
    {
     "name": "stdout",
     "output_type": "stream",
     "text": [
      "請輸入國文分數:60\n",
      "請輸入數學分數:100\n",
      "獎金為:500\n"
     ]
    }
   ],
   "source": [
    "#國文分數100同時數學100,獎金1000\n",
    "#國文分數100或者數學100,獎金500\n",
    "#使用巢狀判斷\n",
    "\n",
    "\n",
    "import pyinputplus as pypi\n",
    "chinese = pypi.inputInt(\"請輸入國文分數:\",min=0,max=100)\n",
    "print(chinese)\n",
    "math = pypi.inputInt(\"請輸入數學分數:\",min=0,max=100)\n",
    "print(math)\n",
    "\n",
    "\n",
    "if  chinese==100:\n",
    "    if math ==100:\n",
    "        bonus = 1000\n",
    "    else:\n",
    "        bonus = 500\n",
    "elif math ==100:\n",
    "    bonus = 500\n",
    "else:\n",
    "    bonus = 0\n",
    "print(f\"獎金為:{bonus:}\") \n",
    "    "
   ]
  },
  {
   "cell_type": "code",
   "execution_count": null,
   "metadata": {},
   "outputs": [],
   "source": []
  }
 ],
 "metadata": {
  "kernelspec": {
   "display_name": "Python 3",
   "language": "python",
   "name": "python3"
  },
  "language_info": {
   "codemirror_mode": {
    "name": "ipython",
    "version": 3
   },
   "file_extension": ".py",
   "mimetype": "text/x-python",
   "name": "python",
   "nbconvert_exporter": "python",
   "pygments_lexer": "ipython3",
   "version": "3.10.13"
  }
 },
 "nbformat": 4,
 "nbformat_minor": 2
}
