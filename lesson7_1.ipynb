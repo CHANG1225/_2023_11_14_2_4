{
 "cells": [
  {
   "cell_type": "code",
   "execution_count": 3,
   "metadata": {},
   "outputs": [
    {
     "name": "stdout",
     "output_type": "stream",
     "text": [
      "55\n"
     ]
    }
   ],
   "source": [
    "#while不知道執行的次數\n",
    "\n",
    "value = 0\n",
    "i = 1\n",
    "while i<=10:\n",
    "    value += i\n",
    "    i += 1\n",
    "    \n",
    "print(value)"
   ]
  },
  {
   "cell_type": "code",
   "execution_count": 2,
   "metadata": {},
   "outputs": [
    {
     "name": "stdout",
     "output_type": "stream",
     "text": [
      "請輸入第1月份存款:2000\n",
      "請輸入第2月份存款:2000\n",
      "請輸入第3月份存款:3000\n",
      "請輸入第4月份存款:4000\n",
      "請輸入第5月份存款:3000\n",
      "請輸入第6月份存款:2000\n",
      "請輸入第7月份存款:2000\n",
      "請輸入第8月份存款:4000\n",
      "請輸入第9月份存款:5000\n",
      "請輸入第10月份存款:6000\n",
      "恭喜!已經存夠了,共存了10月份,總存款為:33000\n"
     ]
    }
   ],
   "source": [
    "#小明想要存錢買一輛機車,機車每輛30000元，他將每月存的錢輸入，當存款足夠買機車時，就顯示提示訊息告知。\n",
    "import pyinputplus as pyip\n",
    "deposit = 0\n",
    "month = 0\n",
    "while deposit < 30000:\n",
    "    month += 1\n",
    "    money_month = pyip.inputInt(f\"請輸入第{month}月份存款:\")    \n",
    "    print(money_month)\n",
    "    deposit += money_month\n",
    "\n",
    "print(f\"恭喜!已經存夠了,共存了{month}月份,總存款為:{deposit}\")\n"
   ]
  },
  {
   "cell_type": "code",
   "execution_count": 6,
   "metadata": {},
   "outputs": [
    {
     "name": "stdout",
     "output_type": "stream",
     "text": [
      "請輸入小寫英文字[按q會離開]:Taipei\n",
      "請輸入小寫文字[按q會離開]:Amercan\n",
      "請輸入小寫文字[按q會離開]:結束程式\n"
     ]
    }
   ],
   "source": [
    "#輸入小寫的英文字,列印出第一個字大寫的英文字\n",
    "#如果輸入q,就會離開\n",
    "#capitalize是內建功能\n",
    "\n",
    "a=pyip.inputStr('請輸入小寫英文字[按q會離開]:')\n",
    "while(a!='q'):\n",
    "    print(a.capitalize())\n",
    "    a=pyip.inputStr('請輸入小寫文字[按q會離開]:')\n",
    "\n",
    "print('結束程式')"
   ]
  },
  {
   "cell_type": "code",
   "execution_count": 8,
   "metadata": {},
   "outputs": [
    {
     "name": "stdout",
     "output_type": "stream",
     "text": [
      "請輸入小寫英文字[按q會離開]:Tapie\n",
      "請輸入小寫英文字[按q會離開]:Fasss\n",
      "請輸入小寫英文字[按q會離開]:結束程式\n"
     ]
    }
   ],
   "source": [
    "# while(True),一定要有break\n",
    "\n",
    "while(True):\n",
    "    a=pyip.inputStr('請輸入小寫英文字[按q會離開]:')\n",
    "    if a =='q':\n",
    "        break\n",
    "    print(a.capitalize())\n",
    "print('結束程式')"
   ]
  },
  {
   "cell_type": "code",
   "execution_count": 11,
   "metadata": {},
   "outputs": [
    {
     "name": "stdout",
     "output_type": "stream",
     "text": [
      "請輸入成績(輸入負數會離開):100\n",
      "請輸入成績(輸入負數會離開):100\n",
      "請輸入成績(輸入負數會離開):100\n",
      "請輸入成績(輸入負數會離開):100\n",
      "請輸入成績(輸入負數會離開):-100\n",
      "全班總成績:-100\n"
     ]
    }
   ],
   "source": [
    "#小美是一位教師，請你以while迴圈方式為小美設計一個輸入成績的程式，\n",
    "#如果輸入負數表示成績輸入結束，在輸入成績結束後顯示班上總成績及平均數\n",
    "# 1.輸入成績\n",
    "sum=0\n",
    "while(True):\n",
    "    a=pyip.inputInt('請輸入成績(輸入負數會離開):')\n",
    "    print(a)\n",
    "    if a <0:\n",
    "        break\n",
    "    sum += a\n",
    "print(f'全班總成績:{a}')"
   ]
  },
  {
   "cell_type": "code",
   "execution_count": 14,
   "metadata": {},
   "outputs": [
    {
     "name": "stdout",
     "output_type": "stream",
     "text": [
      "請輸入第1位學生成績:100\n",
      "請輸入第2位學生成績:100\n",
      "請輸入第3位學生成績:100\n",
      "請輸入第4位學生成績:100\n",
      "請輸入第5位學生成績:-100\n",
      "全班總成績:400,平均為100.0\n"
     ]
    }
   ],
   "source": [
    "sum=0\n",
    "num=0\n",
    "\n",
    "while(True):\n",
    "    a=pyip.inputInt(f'請輸入第{num+1}位學生成績:')\n",
    "    print(a)\n",
    "    if a <0:\n",
    "        break\n",
    "    num+=1\n",
    "    sum += a\n",
    "print(f'全班總成績:{sum},平均為{sum/num}')"
   ]
  },
  {
   "cell_type": "code",
   "execution_count": 17,
   "metadata": {},
   "outputs": [
    {
     "ename": "ValueError",
     "evalue": "invalid literal for int() with base 10: 'a'",
     "output_type": "error",
     "traceback": [
      "\u001b[0;31m---------------------------------------------------------------------------\u001b[0m",
      "\u001b[0;31mValueError\u001b[0m                                Traceback (most recent call last)",
      "\u001b[1;32m/workspaces/_2023_11_14_2_4/lesson7_1.ipynb 儲存格 7\u001b[0m line \u001b[0;36m1\n\u001b[1;32m      <a href='vscode-notebook-cell://codespaces%2Bturbo-yodel-v64vwqp5rjf556/workspaces/_2023_11_14_2_4/lesson7_1.ipynb#W6sdnNjb2RlLXJlbW90ZQ%3D%3D?line=8'>9</a>\u001b[0m \u001b[39mif\u001b[39;00m a \u001b[39m==\u001b[39m\u001b[39m'\u001b[39m\u001b[39mq\u001b[39m\u001b[39m'\u001b[39m:\n\u001b[1;32m     <a href='vscode-notebook-cell://codespaces%2Bturbo-yodel-v64vwqp5rjf556/workspaces/_2023_11_14_2_4/lesson7_1.ipynb#W6sdnNjb2RlLXJlbW90ZQ%3D%3D?line=9'>10</a>\u001b[0m     \u001b[39mbreak\u001b[39;00m\n\u001b[0;32m---> <a href='vscode-notebook-cell://codespaces%2Bturbo-yodel-v64vwqp5rjf556/workspaces/_2023_11_14_2_4/lesson7_1.ipynb#W6sdnNjb2RlLXJlbW90ZQ%3D%3D?line=11'>12</a>\u001b[0m aInt \u001b[39m=\u001b[39m \u001b[39mint\u001b[39;49m(a)\n\u001b[1;32m     <a href='vscode-notebook-cell://codespaces%2Bturbo-yodel-v64vwqp5rjf556/workspaces/_2023_11_14_2_4/lesson7_1.ipynb#W6sdnNjb2RlLXJlbW90ZQ%3D%3D?line=12'>13</a>\u001b[0m \u001b[39mif\u001b[39;00m aInt \u001b[39m%\u001b[39m \u001b[39m2\u001b[39m \u001b[39m==\u001b[39m\u001b[39m1\u001b[39m:\n\u001b[1;32m     <a href='vscode-notebook-cell://codespaces%2Bturbo-yodel-v64vwqp5rjf556/workspaces/_2023_11_14_2_4/lesson7_1.ipynb#W6sdnNjb2RlLXJlbW90ZQ%3D%3D?line=13'>14</a>\u001b[0m     \u001b[39mprint\u001b[39m(\u001b[39mf\u001b[39m\u001b[39m'\u001b[39m\u001b[39m{\u001b[39;00maInt\u001b[39m}\u001b[39;00m\u001b[39m的平方是\u001b[39m\u001b[39m{\u001b[39;00maInt\u001b[39m \u001b[39m\u001b[39m*\u001b[39m\u001b[39m*\u001b[39m\u001b[39m \u001b[39m\u001b[39m2\u001b[39m\u001b[39m}\u001b[39;00m\u001b[39m'\u001b[39m)\n",
      "\u001b[0;31mValueError\u001b[0m: invalid literal for int() with base 10: 'a'"
     ]
    }
   ],
   "source": [
    "#顯示:\n",
    "#基數輸出平方\n",
    "#偶數不做任何動作\n",
    "#'q'要離開\n",
    "\n",
    "\n",
    "while(True):\n",
    "    a=input(\"請輸入整數,(輸入[q]離開:\")\n",
    "    if a =='q':\n",
    "        break\n",
    "\n",
    "    aInt = int(a)\n",
    "    if aInt % 2 ==1:\n",
    "        print(f'{aInt}的平方是{aInt ** 2}')\n",
    "    else:\n",
    "        print('不做事')\n",
    "print('應用程式結束')\n"
   ]
  },
  {
   "cell_type": "code",
   "execution_count": 18,
   "metadata": {},
   "outputs": [
    {
     "name": "stdout",
     "output_type": "stream",
     "text": [
      "不做事\n",
      "1的平方是1\n",
      "a輸入格式錯誤\n",
      "a輸入格式錯誤\n",
      "應用程式結束\n"
     ]
    }
   ],
   "source": [
    "#排除ValueError\n",
    "#排除RaiseError\n",
    "#如輸入非q的英文字時\n",
    "\n",
    "#題目\n",
    "#顯示:\n",
    "#基數輸出平方\n",
    "#偶數不做任何動作\n",
    "#'q'要離開\n",
    "\n",
    "\n",
    "while(True):\n",
    "    a=input(\"請輸入整數,(輸入[q]離開:\")\n",
    "    if a =='q':\n",
    "        break\n",
    "\n",
    "    try:\n",
    "        aInt = int(a)\n",
    "    except:\n",
    "        print(f'{a}輸入格式錯誤')\n",
    "        continue\n",
    "\n",
    "    \n",
    "    if aInt % 2 ==1:\n",
    "        print(f'{aInt}的平方是{aInt ** 2}')\n",
    "    else:\n",
    "        print('不做事')\n",
    "print('應用程式結束')"
   ]
  }
 ],
 "metadata": {
  "kernelspec": {
   "display_name": "Python 3",
   "language": "python",
   "name": "python3"
  },
  "language_info": {
   "codemirror_mode": {
    "name": "ipython",
    "version": 3
   },
   "file_extension": ".py",
   "mimetype": "text/x-python",
   "name": "python",
   "nbconvert_exporter": "python",
   "pygments_lexer": "ipython3",
   "version": "3.10.13"
  }
 },
 "nbformat": 4,
 "nbformat_minor": 2
}
