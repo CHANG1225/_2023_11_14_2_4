{
 "cells": [
  {
   "cell_type": "code",
   "execution_count": 1,
   "metadata": {},
   "outputs": [],
   "source": [
    "class Student:\n",
    "    def __init__(self,n,c,e,m):\n",
    "        self.name=n   #name前加底線*2不可變動修改\n",
    "        self.chinese=c #可修改的attribute\n",
    "        self.english=e\n",
    "        self.math=m"
   ]
  },
  {
   "cell_type": "code",
   "execution_count": 3,
   "metadata": {},
   "outputs": [
    {
     "name": "stdout",
     "output_type": "stream",
     "text": [
      "張\n",
      "80\n",
      "90\n",
      "60\n"
     ]
    }
   ],
   "source": [
    "stu1=Student('張',80,90,60)\n",
    "print(stu1.name)\n",
    "print(stu1.chinese)\n",
    "print(stu1.english)\n",
    "print(stu1.math)"
   ]
  },
  {
   "cell_type": "code",
   "execution_count": 11,
   "metadata": {},
   "outputs": [],
   "source": [
    "class Student:\n",
    "    def __init__(self,n,c,e,m):\n",
    "        self.__name=n   #name前加底線*2不可變動修改\n",
    "        self.chinese=c #可修改的attribute\n",
    "        self.english=e\n",
    "        self.math=m\n",
    "\n",
    "    @property\n",
    "    def name(self):\n",
    "        return self.__name\n",
    "    #property呼叫 不可修改 "
   ]
  },
  {
   "cell_type": "code",
   "execution_count": 12,
   "metadata": {},
   "outputs": [
    {
     "name": "stdout",
     "output_type": "stream",
     "text": [
      "張\n",
      "80\n",
      "90\n",
      "60\n"
     ]
    }
   ],
   "source": [
    "stu1=Student('張',80,90,60)\n",
    "print(stu1.name)\n",
    "print(stu1.chinese)\n",
    "print(stu1.english)\n",
    "print(stu1.math)"
   ]
  },
  {
   "cell_type": "code",
   "execution_count": 13,
   "metadata": {},
   "outputs": [
    {
     "name": "stdout",
     "output_type": "stream",
     "text": [
      "張\n",
      "100\n",
      "100\n",
      "100\n"
     ]
    }
   ],
   "source": [
    "stu1.chinese = 100\n",
    "stu1.english = 100\n",
    "stu1.math = 100\n",
    "\n",
    "print(stu1.name)\n",
    "print(stu1.chinese)\n",
    "print(stu1.english)\n",
    "print(stu1.math)"
   ]
  },
  {
   "cell_type": "code",
   "execution_count": 25,
   "metadata": {},
   "outputs": [],
   "source": [
    "class Student:\n",
    "    def __init__(self,n,c,e,m):\n",
    "        self.__name=n   \n",
    "        self.chinese=c \n",
    "        self.english=e\n",
    "        self.math=m\n",
    "\n",
    "    @property #屬性\n",
    "    def name(self):\n",
    "        return self.__name\n",
    "    def sum(self):#sum總分\n",
    "        return self.chinese + self.english + self.math\n",
    "    def average(self): #實體方法 method\n",
    "        return self.sum( )  / 3.0\n",
    "    \n",
    "    def __repr__(self) -> str:\n",
    "        description = f'''\n",
    "        我是Student的實體\n",
    "        chinese是{self.chinese}\n",
    "        english是{self.english}\n",
    "        math是\n",
    "        '''\n",
    "        return description"
   ]
  },
  {
   "cell_type": "code",
   "execution_count": 26,
   "metadata": {},
   "outputs": [
    {
     "name": "stdout",
     "output_type": "stream",
     "text": [
      "張\n",
      "80\n",
      "90\n",
      "60\n",
      "學生總分為:230\n",
      "學生平均為:76.67\n",
      "\n",
      "        我是Student的實體\n",
      "        chinese是80\n",
      "        english是90\n",
      "        math是\n",
      "        \n"
     ]
    }
   ],
   "source": [
    "stu1=Student('張',80,90,60)\n",
    "print(stu1.name)\n",
    "print(stu1.chinese)\n",
    "print(stu1.english)\n",
    "print(stu1.math)\n",
    "print(f'學生總分為:{stu1.sum()}')\n",
    "print(f'學生平均為:{stu1.average():.2f}')\n",
    "print(stu1)\n",
    "\n",
    "\n",
    "#自己定義stu1出來是什麼\n"
   ]
  },
  {
   "cell_type": "code",
   "execution_count": 40,
   "metadata": {},
   "outputs": [],
   "source": [
    "class Student:\n",
    "    def __init__(self,n,c,e,m):\n",
    "        self.__name=n   \n",
    "        self.chinese=c \n",
    "        self.english=e\n",
    "        self.math=m\n",
    "\n",
    "    @property #屬性\n",
    "    def name(self):\n",
    "        return self.__name\n",
    "    def sum(self):#sum總分\n",
    "        return self.chinese + self.english + self.math\n",
    "    def average(self): #實體方法 method\n",
    "        return self.sum( )  / 3.0\n",
    "    \n",
    "\n",
    "    def __repr__(self):\n",
    "        description = \"\"\n",
    "        description +='我是student的實體\\n'\n",
    "        description +=f'name是:{self.name}\\n'\n",
    "        return description"
   ]
  },
  {
   "cell_type": "code",
   "execution_count": 41,
   "metadata": {},
   "outputs": [
    {
     "name": "stdout",
     "output_type": "stream",
     "text": [
      "我是student的實體\n",
      "name是:張\n",
      "\n",
      "學生總分為:230\n",
      "學生平均為:76.67\n"
     ]
    }
   ],
   "source": [
    "stu1=Student('張',80,90,60)\n",
    "print(stu1)\n",
    "print(f'學生總分為:{stu1.sum()}')\n",
    "print(f'學生平均為:{stu1.average():.2f}')\n"
   ]
  }
 ],
 "metadata": {
  "kernelspec": {
   "display_name": "Python 3",
   "language": "python",
   "name": "python3"
  },
  "language_info": {
   "codemirror_mode": {
    "name": "ipython",
    "version": 3
   },
   "file_extension": ".py",
   "mimetype": "text/x-python",
   "name": "python",
   "nbconvert_exporter": "python",
   "pygments_lexer": "ipython3",
   "version": "3.10.13"
  }
 },
 "nbformat": 4,
 "nbformat_minor": 2
}
