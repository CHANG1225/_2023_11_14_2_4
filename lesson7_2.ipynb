{
 "cells": [
  {
   "cell_type": "code",
   "execution_count": 25,
   "metadata": {},
   "outputs": [
    {
     "data": {
      "text/plain": [
       "3"
      ]
     },
     "execution_count": 25,
     "metadata": {},
     "output_type": "execute_result"
    }
   ],
   "source": [
    "import pyinputplus as pyip\n",
    "import random #內建功能\n",
    "\n",
    "\n",
    "random.randint(1,5)#包含5\n",
    "\n"
   ]
  },
  {
   "cell_type": "code",
   "execution_count": 38,
   "metadata": {},
   "outputs": [
    {
     "name": "stdout",
     "output_type": "stream",
     "text": [
      "=====猜數字遊戲=====\n",
      "猜數字範圍1~100:34\n",
      "再小一點\n",
      "您已經猜了1次\n",
      "======================\n",
      "猜數字範圍1~33:22\n",
      "再小一點\n",
      "您已經猜了2次\n",
      "======================\n",
      "猜數字範圍1~21:5\n",
      "再大一點\n",
      "您已經猜了3次\n",
      "======================\n",
      "猜數字範圍6~21:15\n",
      "賓果,答案是:15\n",
      "您猜了4次\n",
      "遊戲結束\n"
     ]
    }
   ],
   "source": [
    "import pyinputplus as pyip\n",
    "import random\n",
    "min=1\n",
    "max=100\n",
    "count = 0\n",
    "random_number=random.randint(min,max)\n",
    "print('=====猜數字遊戲=====')\n",
    "\n",
    "while True:\n",
    "    keyin=pyip.inputInt(f'猜數字範圍{min}~{max}:')\n",
    "    count += 1\n",
    "    print(keyin)\n",
    "    if keyin == random_number:\n",
    "        print(f'賓果,答案是:{random_number}')\n",
    "        print(f'您猜了{count}次')\n",
    "        break\n",
    "    elif keyin > random_number:\n",
    "        print('再小一點')\n",
    "        max = keyin -1\n",
    "    elif keyin < random_number:\n",
    "        print('再大一點')\n",
    "        min = keyin+1\n",
    "    print(f'您已經猜了{count}次')\n",
    "    print('======================')\n",
    "\n",
    "print('遊戲結束')\n"
   ]
  }
 ],
 "metadata": {
  "kernelspec": {
   "display_name": "Python 3",
   "language": "python",
   "name": "python3"
  },
  "language_info": {
   "codemirror_mode": {
    "name": "ipython",
    "version": 3
   },
   "file_extension": ".py",
   "mimetype": "text/x-python",
   "name": "python",
   "nbconvert_exporter": "python",
   "pygments_lexer": "ipython3",
   "version": "3.10.13"
  }
 },
 "nbformat": 4,
 "nbformat_minor": 2
}
