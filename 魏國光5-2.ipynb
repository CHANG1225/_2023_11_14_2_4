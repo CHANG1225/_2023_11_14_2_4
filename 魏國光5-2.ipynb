{
 "cells": [
  {
   "cell_type": "code",
   "execution_count": 1,
   "metadata": {},
   "outputs": [
    {
     "name": "stdout",
     "output_type": "stream",
     "text": [
      "請輸入學生分數1~100:"
     ]
    },
    {
     "name": "stdout",
     "output_type": "stream",
     "text": [
      "45\n",
      "重修\n"
     ]
    }
   ],
   "source": [
    "import pyinputplus as pyip\n",
    "\n",
    "scores = pyip.inputInt(\"請輸入學生分數1~100:\",min =0,max = 100)\n",
    "print(scores)\n",
    "if scores<60:\n",
    "    print('重修')\n",
    "else:\n",
    "    if scores<80:\n",
    "        print('低空飛過')\n",
    "    else:\n",
    "        print('優')"
   ]
  },
  {
   "cell_type": "code",
   "execution_count": 3,
   "metadata": {},
   "outputs": [
    {
     "name": "stdout",
     "output_type": "stream",
     "text": [
      "請輸入學生分數1~100:Number must be at maximum 100.\n",
      "請輸入學生分數1~100:Number must be at maximum 100.\n",
      "請輸入學生分數1~100:87\n",
      "優\n"
     ]
    }
   ],
   "source": [
    "import pyinputplus as pyip\n",
    "\n",
    "scores = pyip.inputInt(\"請輸入學生分數1~100:\",min =0,max = 100)\n",
    "print(scores)\n",
    "if scores<60:\n",
    "    print('重修')\n",
    "elif scores<80:\n",
    "    print('低空飛過')\n",
    "else:\n",
    "    print('優')"
   ]
  },
  {
   "cell_type": "code",
   "execution_count": 7,
   "metadata": {},
   "outputs": [
    {
     "name": "stdout",
     "output_type": "stream",
     "text": [
      "請輸入學生分數1~100:97\n",
      "優\n"
     ]
    }
   ],
   "source": [
    "import pyinputplus as pyip\n",
    "\n",
    "scores = pyip.inputInt(\"請輸入學生分數1~100:\",min =0,max = 100)\n",
    "print(scores)\n",
    "if scores<60:\n",
    "    print('重修')\n",
    "elif scores<70:\n",
    "    print(\"丙\")\n",
    "elif scores<80:\n",
    "    print(\"乙\")\n",
    "elif scores<90:\n",
    "    print(\"甲\")\n",
    "elif scores<100:\n",
    "    print(\"優\")"
   ]
  },
  {
   "cell_type": "code",
   "execution_count": 15,
   "metadata": {},
   "outputs": [
    {
     "name": "stdout",
     "output_type": "stream",
     "text": [
      "請輸入學生分數1~100:60\n",
      "丙\n"
     ]
    }
   ],
   "source": [
    "import pyinputplus as pyip\n",
    "\n",
    "scores = pyip.inputInt(\"請輸入學生分數1~100:\",min =0,max = 100)\n",
    "print(scores)\n",
    "if scores<60:\n",
    "    print('重修')\n",
    "elif scores<=70:\n",
    "    print(\"丙\")\n",
    "elif scores<=80:\n",
    "    print(\"乙\")\n",
    "elif scores<=90:\n",
    "    print(\"甲\")\n",
    "elif scores<100:\n",
    "    print(\"優\")"
   ]
  },
  {
   "cell_type": "code",
   "execution_count": 20,
   "metadata": {},
   "outputs": [
    {
     "ename": "TypeError",
     "evalue": "eval() arg 1 must be a string, bytes or code object",
     "output_type": "error",
     "traceback": [
      "\u001b[0;31m---------------------------------------------------------------------------\u001b[0m",
      "\u001b[0;31mTypeError\u001b[0m                                 Traceback (most recent call last)",
      "\u001b[1;32m/workspaces/_2023_11_14_2_4/魏國光5-2.ipynb 儲存格 5\u001b[0m line \u001b[0;36m1\n\u001b[0;32m----> <a href='vscode-notebook-cell://codespaces%2Bturbo-yodel-v64vwqp5rjf556/workspaces/_2023_11_14_2_4/%E9%AD%8F%E5%9C%8B%E5%85%895-2.ipynb#W4sdnNjb2RlLXJlbW90ZQ%3D%3D?line=0'>1</a>\u001b[0m s1\u001b[39m=\u001b[39m\u001b[39meval\u001b[39;49m(\u001b[39m3\u001b[39;49m\u001b[39m+\u001b[39;49m\u001b[39m4\u001b[39;49m)\n\u001b[1;32m      <a href='vscode-notebook-cell://codespaces%2Bturbo-yodel-v64vwqp5rjf556/workspaces/_2023_11_14_2_4/%E9%AD%8F%E5%9C%8B%E5%85%895-2.ipynb#W4sdnNjb2RlLXJlbW90ZQ%3D%3D?line=1'>2</a>\u001b[0m \u001b[39mprint\u001b[39m(s1)\n",
      "\u001b[0;31mTypeError\u001b[0m: eval() arg 1 must be a string, bytes or code object"
     ]
    }
   ],
   "source": [
    "s1=eval(3+4)\n",
    "print(s1)\n"
   ]
  },
  {
   "cell_type": "code",
   "execution_count": 24,
   "metadata": {},
   "outputs": [
    {
     "data": {
      "text/plain": [
       "7"
      ]
     },
     "execution_count": 24,
     "metadata": {},
     "output_type": "execute_result"
    }
   ],
   "source": [
    "int(3+4)"
   ]
  }
 ],
 "metadata": {
  "kernelspec": {
   "display_name": "Python 3",
   "language": "python",
   "name": "python3"
  },
  "language_info": {
   "codemirror_mode": {
    "name": "ipython",
    "version": 3
   },
   "file_extension": ".py",
   "mimetype": "text/x-python",
   "name": "python",
   "nbconvert_exporter": "python",
   "pygments_lexer": "ipython3",
   "version": "3.10.13"
  }
 },
 "nbformat": 4,
 "nbformat_minor": 2
}
