{
 "cells": [
  {
   "cell_type": "code",
   "execution_count": 1,
   "metadata": {},
   "outputs": [
    {
     "name": "stdout",
     "output_type": "stream",
     "text": [
      "請輸入學生分數1~100:"
     ]
    },
    {
     "name": "stdout",
     "output_type": "stream",
     "text": [
      "45\n",
      "重修\n"
     ]
    }
   ],
   "source": [
    "import pyinputplus as pyip\n",
    "\n",
    "scores = pyip.inputInt(\"請輸入學生分數1~100:\",min =0,max = 100)\n",
    "print(scores)\n",
    "if scores<60:\n",
    "    print('重修')\n",
    "else:\n",
    "    if scores<80:\n",
    "        print('低空飛過')\n",
    "    else:\n",
    "        print('優')"
   ]
  },
  {
   "cell_type": "code",
   "execution_count": 3,
   "metadata": {},
   "outputs": [
    {
     "name": "stdout",
     "output_type": "stream",
     "text": [
      "請輸入學生分數1~100:Number must be at maximum 100.\n",
      "請輸入學生分數1~100:Number must be at maximum 100.\n",
      "請輸入學生分數1~100:87\n",
      "優\n"
     ]
    }
   ],
   "source": [
    "import pyinputplus as pyip\n",
    "\n",
    "scores = pyip.inputInt(\"請輸入學生分數1~100:\",min =0,max = 100)\n",
    "print(scores)\n",
    "if scores<60:\n",
    "    print('重修')\n",
    "elif scores<80:\n",
    "    print('低空飛過')\n",
    "else:\n",
    "    print('優')"
   ]
  },
  {
   "cell_type": "code",
   "execution_count": 7,
   "metadata": {},
   "outputs": [
    {
     "name": "stdout",
     "output_type": "stream",
     "text": [
      "請輸入學生分數1~100:97\n",
      "優\n"
     ]
    }
   ],
   "source": [
    "import pyinputplus as pyip\n",
    "\n",
    "scores = pyip.inputInt(\"請輸入學生分數1~100:\",min =0,max = 100)\n",
    "print(scores)\n",
    "if scores<60:\n",
    "    print('重修')\n",
    "elif scores<70:\n",
    "    print(\"丙\")\n",
    "elif scores<80:\n",
    "    print(\"乙\")\n",
    "elif scores<90:\n",
    "    print(\"甲\")\n",
    "elif scores<100:\n",
    "    print(\"優\")"
   ]
  },
  {
   "cell_type": "code",
   "execution_count": 15,
   "metadata": {},
   "outputs": [
    {
     "name": "stdout",
     "output_type": "stream",
     "text": [
      "請輸入學生分數1~100:60\n",
      "丙\n"
     ]
    }
   ],
   "source": [
    "import pyinputplus as pyip\n",
    "\n",
    "scores = pyip.inputInt(\"請輸入學生分數1~100:\",min =0,max = 100)\n",
    "print(scores)\n",
    "if scores<60:\n",
    "    print('重修')\n",
    "elif scores<=70:\n",
    "    print(\"丙\")\n",
    "elif scores<=80:\n",
    "    print(\"乙\")\n",
    "elif scores<=90:\n",
    "    print(\"甲\")\n",
    "elif scores<100:\n",
    "    print(\"優\")"
   ]
  }
 ],
 "metadata": {
  "kernelspec": {
   "display_name": "Python 3",
   "language": "python",
   "name": "python3"
  },
  "language_info": {
   "codemirror_mode": {
    "name": "ipython",
    "version": 3
   },
   "file_extension": ".py",
   "mimetype": "text/x-python",
   "name": "python",
   "nbconvert_exporter": "python",
   "pygments_lexer": "ipython3",
   "version": "3.10.13"
  }
 },
 "nbformat": 4,
 "nbformat_minor": 2
}
